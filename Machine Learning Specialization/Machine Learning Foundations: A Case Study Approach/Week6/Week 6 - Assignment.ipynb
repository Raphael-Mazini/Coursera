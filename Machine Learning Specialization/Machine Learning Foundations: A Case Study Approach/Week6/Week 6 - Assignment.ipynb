{
 "cells": [
  {
   "cell_type": "markdown",
   "metadata": {},
   "source": [
    "# Week 6 Exercise"
   ]
  },
  {
   "cell_type": "markdown",
   "metadata": {},
   "source": [
    "# Fire up GraphLab Create"
   ]
  },
  {
   "cell_type": "code",
   "execution_count": 10,
   "metadata": {
    "collapsed": true
   },
   "outputs": [],
   "source": [
    "import graphlab\n",
    "graphlab.canvas.set_target('ipynb')"
   ]
  },
  {
   "cell_type": "markdown",
   "metadata": {},
   "source": [
    "# Load a common image analysis dataset\n",
    "\n",
    "We will use a popular benchmark dataset in computer vision called CIFAR-10.\n",
    "\n",
    "(We've reduced the data to just 4 categories = {'cat','bird','automobile','dog'}.)\n",
    "\n",
    "This dataset is already split into a training set and test set."
   ]
  },
  {
   "cell_type": "code",
   "execution_count": 3,
   "metadata": {
    "collapsed": false
   },
   "outputs": [
    {
     "name": "stderr",
     "output_type": "stream",
     "text": [
      "[INFO] graphlab.cython.cy_server: GraphLab Create v2.1 started. Logging: /tmp/graphlab_server_1495426981.log\n"
     ]
    },
    {
     "name": "stdout",
     "output_type": "stream",
     "text": [
      "This non-commercial license of GraphLab Create for academic use is assigned to onlydevad@gmail.com and will expire on March 27, 2018.\n"
     ]
    }
   ],
   "source": [
    "image_train = graphlab.SFrame('image_train_data/')\n",
    "image_test = graphlab.SFrame('image_test_data/')"
   ]
  },
  {
   "cell_type": "markdown",
   "metadata": {},
   "source": [
    "# Solution 1"
   ]
  },
  {
   "cell_type": "code",
   "execution_count": 4,
   "metadata": {
    "collapsed": false
   },
   "outputs": [
    {
     "data": {
      "text/plain": [
       "\n",
       "+------------------+-------+----------+\n",
       "|       item       | value | is exact |\n",
       "+------------------+-------+----------+\n",
       "|      Length      |  2005 |   Yes    |\n",
       "| # Missing Values |   0   |   Yes    |\n",
       "| # unique values  |   4   |    No    |\n",
       "+------------------+-------+----------+\n",
       "\n",
       "Most frequent items:\n",
       "+-------+------------+-----+-----+------+\n",
       "| value | automobile | cat | dog | bird |\n",
       "+-------+------------+-----+-----+------+\n",
       "| count |    509     | 509 | 509 | 478  |\n",
       "+-------+------------+-----+-----+------+\n"
      ]
     },
     "execution_count": 4,
     "metadata": {},
     "output_type": "execute_result"
    }
   ],
   "source": [
    "image_train['label'].sketch_summary()"
   ]
  },
  {
   "cell_type": "markdown",
   "metadata": {},
   "source": [
    "# Solution 2"
   ]
  },
  {
   "cell_type": "code",
   "execution_count": 5,
   "metadata": {
    "collapsed": false
   },
   "outputs": [
    {
     "data": {
      "text/html": [
       "<pre>Starting brute force nearest neighbors model training.</pre>"
      ],
      "text/plain": [
       "Starting brute force nearest neighbors model training."
      ]
     },
     "metadata": {},
     "output_type": "display_data"
    }
   ],
   "source": [
    "cat_model = graphlab.nearest_neighbors.create(image_train[image_train['label'] == 'cat'],\n",
    "                                             features=['deep_features'], label = 'id')"
   ]
  },
  {
   "cell_type": "code",
   "execution_count": 6,
   "metadata": {
    "collapsed": false
   },
   "outputs": [
    {
     "data": {
      "text/html": [
       "<pre>Starting brute force nearest neighbors model training.</pre>"
      ],
      "text/plain": [
       "Starting brute force nearest neighbors model training."
      ]
     },
     "metadata": {},
     "output_type": "display_data"
    }
   ],
   "source": [
    "dog_model = graphlab.nearest_neighbors.create(image_train[image_train['label'] == 'dog'],\n",
    "                                             features=['deep_features'], label = 'id')"
   ]
  },
  {
   "cell_type": "code",
   "execution_count": 7,
   "metadata": {
    "collapsed": false
   },
   "outputs": [
    {
     "data": {
      "text/html": [
       "<pre>Starting brute force nearest neighbors model training.</pre>"
      ],
      "text/plain": [
       "Starting brute force nearest neighbors model training."
      ]
     },
     "metadata": {},
     "output_type": "display_data"
    }
   ],
   "source": [
    "bird_model = graphlab.nearest_neighbors.create(image_train[image_train['label'] == 'bird'],\n",
    "                                             features=['deep_features'], label = 'id')"
   ]
  },
  {
   "cell_type": "code",
   "execution_count": 8,
   "metadata": {
    "collapsed": false
   },
   "outputs": [
    {
     "data": {
      "text/html": [
       "<pre>Starting brute force nearest neighbors model training.</pre>"
      ],
      "text/plain": [
       "Starting brute force nearest neighbors model training."
      ]
     },
     "metadata": {},
     "output_type": "display_data"
    }
   ],
   "source": [
    "automobile_model = graphlab.nearest_neighbors.create(image_train[image_train['label'] == 'automobile'],\n",
    "                                             features=['deep_features'], label = 'id')"
   ]
  },
  {
   "cell_type": "code",
   "execution_count": 19,
   "metadata": {
    "collapsed": false
   },
   "outputs": [
    {
     "name": "stdout",
     "output_type": "stream",
     "text": [
      "Nearest ‘dog’ and ‘cat’ labeled image in the training data to the cat image above -->\n",
      "ID of nearest ‘cat’ labeled image : 16289\n",
      "ID of nearest ‘dog’ labeled image : 16289\n"
     ]
    }
   ],
   "source": [
    "cat = image_test[0:1]\n",
    "print \"Nearest ‘dog’ and ‘cat’ labeled image in the training data to the cat image above -->\"\n",
    "print \"ID of nearest ‘cat’ labeled image : %s\" % cat_model.query(car, verbose=0, k=1)['reference_label'][0]\n",
    "print \"ID of nearest ‘dog’ labeled image : %s\" % cat_model.query(car, verbose=0, k=1)['reference_label'][0]"
   ]
  },
  {
   "cell_type": "markdown",
   "metadata": {},
   "source": [
    "# Solution 3"
   ]
  },
  {
   "cell_type": "code",
   "execution_count": 27,
   "metadata": {
    "collapsed": false
   },
   "outputs": [
    {
     "name": "stdout",
     "output_type": "stream",
     "text": [
      "Mean distance between cat image at its 5 nearest neighbors that were labeled ‘cat’ and ‘dog’ in the training data\n",
      "Mean for 'cat' labeled data : 36.1557307098\n",
      "Mean for 'dog' labeled data : 37.7707113618\n"
     ]
    }
   ],
   "source": [
    "cat = image_test[0:1]\n",
    "print \"Mean distance between cat image at its 5 nearest neighbors that were labeled ‘cat’ and ‘dog’ in the training data\"\n",
    "print \"Mean for 'cat' labeled data : %s\" % cat_model.query(cat, verbose=0)['distance'].mean()\n",
    "print \"Mean for 'dog' labeled data : %s\" % dog_model.query(cat, verbose=0)['distance'].mean()"
   ]
  },
  {
   "cell_type": "markdown",
   "metadata": {},
   "source": [
    "# Solution 4"
   ]
  },
  {
   "cell_type": "code",
   "execution_count": 68,
   "metadata": {
    "collapsed": false
   },
   "outputs": [],
   "source": [
    "dog_distances = graphlab.SFrame({\n",
    "        'dog-dog' : dog_model.query(image_test[image_test['label'] == 'dog'], verbose=0, k=1)['distance'],\n",
    "        'dog-cat' : cat_model.query(image_test[image_test['label'] == 'dog'], verbose=0, k=1)['distance'],\n",
    "        'dog-bird' : bird_model.query(image_test[image_test['label'] == 'dog'], verbose=0, k=1)['distance'],\n",
    "        'dog-automobile' : automobile_model.query(image_test[image_test['label'] == 'dog'], verbose=0, k=1)['distance']\n",
    "    })"
   ]
  },
  {
   "cell_type": "code",
   "execution_count": 71,
   "metadata": {
    "collapsed": false
   },
   "outputs": [
    {
     "data": {
      "text/plain": [
       "0.678"
      ]
     },
     "execution_count": 71,
     "metadata": {},
     "output_type": "execute_result"
    }
   ],
   "source": [
    "dog_distances.apply(lambda row: 1 if row['dog-dog'] == min(row.values()) else 0).sum()/float(len(dog_distances))"
   ]
  }
 ],
 "metadata": {
  "kernelspec": {
   "display_name": "Python 2",
   "language": "python",
   "name": "python2"
  },
  "language_info": {
   "codemirror_mode": {
    "name": "ipython",
    "version": 2
   },
   "file_extension": ".py",
   "mimetype": "text/x-python",
   "name": "python",
   "nbconvert_exporter": "python",
   "pygments_lexer": "ipython2",
   "version": "2.7.13"
  }
 },
 "nbformat": 4,
 "nbformat_minor": 0
}
